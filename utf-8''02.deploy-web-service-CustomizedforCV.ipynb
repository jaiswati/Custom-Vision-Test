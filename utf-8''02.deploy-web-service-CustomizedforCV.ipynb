{
  "cells": [
    {
      "metadata": {},
      "cell_type": "markdown",
      "source": "Copyright (c) Microsoft Corporation. All rights reserved.\n\nLicensed under the MIT License."
    },
    {
      "metadata": {},
      "cell_type": "markdown",
      "source": "## Introduction to Azure Machine Learning: Deploy web service\n\nIn previous example, you ran an experiment to estimate value of pi. In this example, we'll use your estimated value to create a web service that computes the area of a circle in a real time. You'll learn about following concepts:\n\n**Model** is simply a file - or a folder of files - that model management service tracks and versions. Typically a model file would contain the coefficients of your trained model, saved to a file.  \n\n**Image** is a combination of model, a Python scoring script that tells how to load and invoke the model, and Python libraries used to execute that code. It is a self-contained unit that can be deployed as a service.\n\n**Service** is the image running on a compute. The service can be called from your front-end application to get predictions, either using the Azure ML SDK or raw HTTP."
    },
    {
      "metadata": {},
      "cell_type": "markdown",
      "source": "**Important**: This notebook uses Azure Container Instances (ACI) as the compute for the service. If you haven't registered ACI provider with your Azure subscription, run the following 2 cells first. Note that you must be the administrator of your Azure subscription to register a provider."
    },
    {
      "metadata": {
        "trusted": true
      },
      "cell_type": "code",
      "source": "!az provider show -n Microsoft.ContainerInstance -o table",
      "execution_count": 3,
      "outputs": [
        {
          "output_type": "stream",
          "text": "Namespace                    RegistrationState\n---------------------------  -------------------\nMicrosoft.ContainerInstance  Registered\n\u001b[0m",
          "name": "stdout"
        }
      ]
    },
    {
      "metadata": {
        "trusted": true
      },
      "cell_type": "code",
      "source": "!az provider register -n Microsoft.ContainerInstance",
      "execution_count": 4,
      "outputs": []
    },
    {
      "metadata": {},
      "cell_type": "markdown",
      "source": "Let's load the workspace, and retrieve the latest run from your experiment using *Experiment.get_runs* method."
    },
    {
      "metadata": {
        "trusted": true
      },
      "cell_type": "code",
      "source": "from azureml.core import Workspace, Experiment, Run\nimport math, random, pickle, json",
      "execution_count": 2,
      "outputs": []
    },
    {
      "metadata": {
        "trusted": true
      },
      "cell_type": "code",
      "source": "ws = Workspace.from_config()",
      "execution_count": 3,
      "outputs": [
        {
          "output_type": "stream",
          "text": "Performing interactive authentication. Please follow the instructions on the terminal.\nTo sign in, use a web browser to open the page https://microsoft.com/devicelogin and enter the code FKQ37BFNG to authenticate.\nInteractive authentication successfully completed.\n",
          "name": "stdout"
        }
      ]
    },
    {
      "metadata": {
        "trusted": true
      },
      "cell_type": "code",
      "source": "experiment_name = \"azureml-experiment\"\nexperiment = Experiment(workspace = ws, name = \"azureml-experiment\")\n#run = list(Experiment(workspace = ws, name = experiment_name).get_runs())[0]\nexperiment",
      "execution_count": 4,
      "outputs": [
        {
          "output_type": "execute_result",
          "execution_count": 4,
          "data": {
            "text/html": "<table style=\"width:100%\"><tr><th>Name</th><th>Workspace</th><th>Report Page</th><th>Docs Page</th></tr><tr><td>azureml-experiment</td><td>Azure_ML_Deployment</td><td><a href=\"https://mlworkspace.azure.ai/portal/subscriptions/7be2acd8-e2c7-4ec2-9ee7-697b22850d1e/resourceGroups/AILabsTest/providers/Microsoft.MachineLearningServices/workspaces/Azure_ML_Deployment/experiments/azureml-experiment\" target=\"_blank\" rel=\"noopener\">Link to Azure Portal</a></td><td><a href=\"https://docs.microsoft.com/en-us/python/api/azureml-core/azureml.core.experiment.Experiment?view=azure-ml-py\" target=\"_blank\" rel=\"noopener\">Link to Documentation</a></td></tr></table>",
            "text/plain": "Experiment(Name: azureml-experiment,\nWorkspace: Azure_ML_Deployment)"
          },
          "metadata": {}
        }
      ]
    },
    {
      "metadata": {
        "trusted": true
      },
      "cell_type": "code",
      "source": "run = list(Experiment(workspace = ws, name = \"my-first-experiment\").get_runs())[0]",
      "execution_count": 15,
      "outputs": []
    },
    {
      "metadata": {
        "trusted": true
      },
      "cell_type": "code",
      "source": "run.upload_file(name = 'outputs/model.pb', path_or_stream = './model.pb')",
      "execution_count": 16,
      "outputs": [
        {
          "output_type": "execute_result",
          "execution_count": 16,
          "data": {
            "text/plain": "<azureml._restclient.models.batch_artifact_content_information_dto.BatchArtifactContentInformationDto at 0x7f480885ecf8>"
          },
          "metadata": {}
        }
      ]
    },
    {
      "metadata": {},
      "cell_type": "markdown",
      "source": "In the previous example you saved a file containing the pi value into run history. Registering the file makes it into a model that is tracked by Azure ML model management."
    },
    {
      "metadata": {
        "trusted": true
      },
      "cell_type": "code",
      "source": "model = run.register_model(model_name = \"cvmodel\", model_path = \"outputs\\model.pb\")",
      "execution_count": 16,
      "outputs": []
    },
    {
      "metadata": {},
      "cell_type": "markdown",
      "source": "Let's create a scoring script that computes an area of a circle, given the estimate within the pi_estimate model. The scoring script consists of two parts: \n\n * The *init* method that loads the model. You can retrieve registered model using *Model.get_model_path* method. \n * The *run* method that gets invoked when you call the web service. It computes the area of a circle using the well-known $area = \\pi*radius^2$ formula. The inputs and outputs are passed as json-formatted strings."
    },
    {
      "metadata": {
        "trusted": true
      },
      "cell_type": "code",
      "source": "%%writefile score.py\nfrom predict import initialize, predict_url, predict_image\nfrom PIL import Image\nimport numpy as np\n\nimport base64\nimport io\nimport json\n\n# Azure ML model loader\ndef init():\n    initialize()\n\n# Helper to predict an image encoded as base64\ndef predict_image_base64(encoded_image):\n    if encoded_image.startswith('b\\''):\n        encoded_image = encoded_image[2:-1]\n\n    decoded_img = base64.b64decode(encoded_image.encode('utf-8'))\n    img_buffer  = io.BytesIO(decoded_img)\n\n    image = Image.open(io.BytesIO(decoded_img))\n    return predict_image(image)\n\n# Azure ML entry point\ndef run(json_input):\n    try:\n        results = None\n        input = json.loads(json_input)\n        url = input.get(\"url\", None)\n        image = input.get(\"image\", None)\n\n        if url:\n            results = predict_url(url)\n        elif image:\n            results = predict_image_base64(image)\n        else:\n            raise Exception(\"Invalid input. Expected url or image\")\n        return (results)\n    except Exception as e:\n        return (str(e))",
      "execution_count": 17,
      "outputs": [
        {
          "output_type": "stream",
          "text": "Overwriting score.py\n",
          "name": "stdout"
        }
      ]
    },
    {
      "metadata": {},
      "cell_type": "markdown",
      "source": "You also need to specify the library dependencies of your scoring script as conda yml file. This example doesn't use any special libraries, so let's simply use Azure ML's default dependencies."
    },
    {
      "metadata": {
        "trusted": true
      },
      "cell_type": "code",
      "source": "from azureml.core.conda_dependencies import CondaDependencies \n\ncd = CondaDependencies()\ncd.save_to_file(\".\", \"myenv.yml\")",
      "execution_count": 18,
      "outputs": [
        {
          "output_type": "execute_result",
          "execution_count": 18,
          "data": {
            "text/plain": "'myenv.yml'"
          },
          "metadata": {}
        }
      ]
    },
    {
      "metadata": {},
      "cell_type": "markdown",
      "source": "Then, let's deploy the web service on Azure Container Instance: a serverless compute for running Docker images. Azure ML service takes care of packaging your model, scoring script and dependencies into Docker image and deploying it."
    },
    {
      "metadata": {
        "trusted": true
      },
      "cell_type": "code",
      "source": "from azureml.core.webservice import AciWebservice, Webservice\nfrom azureml.core.image import ContainerImage\n\n# Define the configuration of compute: ACI with 1 cpu core and 1 gb of memory.\naci_config = AciWebservice.deploy_configuration(cpu_cores = 1, memory_gb = 1)\n\n# Specify the configuration of image: scoring script, Python runtime (PySpark is the other option), and conda file of library dependencies.\nimage_config = ContainerImage.image_configuration(execution_script = \"score.py\", \n                                    runtime = \"python\", \n                                    conda_file = \"myenv.yml\")\n\n# Deploy the web service as an image containing the registered model.\nservice = Webservice.deploy_from_model(name = \"cv-webapi\",\n                                       deployment_config = aci_config,\n                                       models = [model],\n                                       image_config = image_config,\n                                       workspace = ws)\n\n# The service deployment can take several minutes: wait for completion.\nservice.wait_for_deployment(show_output = True)",
      "execution_count": 20,
      "outputs": [
        {
          "output_type": "stream",
          "text": "Creating image\nRunning...................................\nSucceeded\nImage creation operation finished for image cv-webapi:1, operation \"Succeeded\"\nCreating service\nRunning.........................\nFailed",
          "name": "stdout"
        },
        {
          "output_type": "stream",
          "text": "ERROR - Service deployment polling reached non-successful terminal state, current service state: Failed\nMore information can be found using '.get_logs()'\nError:\n{\n  \"code\": \"AciDeploymentFailed\",\n  \"message\": \"Aci Deployment failed with exception: Your container application crashed. This may be caused by errors in your scoring file's init() function.\\nPlease check the logs for your container instance: cv-webapi. From the AML SDK, you can run print(service.get_logs()) if you have service object to fetch the logs. \\nYou can also try to run image azuremldeploym7735310446.azurecr.io/cv-webapi:1 locally. Please refer to http://aka.ms/debugimage#service-launch-fails for more information.\",\n  \"details\": [\n    {\n      \"code\": \"CrashLoopBackOff\",\n      \"message\": \"Your container application crashed. This may be caused by errors in your scoring file's init() function.\\nPlease check the logs for your container instance: cv-webapi. From the AML SDK, you can run print(service.get_logs()) if you have service object to fetch the logs. \\nYou can also try to run image azuremldeploym7735310446.azurecr.io/cv-webapi:1 locally. Please refer to http://aka.ms/debugimage#service-launch-fails for more information.\"\n    }\n  ]\n}\n\nERROR - Service deployment polling reached non-successful terminal state, current service state: Failed\nMore information can be found using '.get_logs()'\nError:\n{\n  \"code\": \"AciDeploymentFailed\",\n  \"message\": \"Aci Deployment failed with exception: Your container application crashed. This may be caused by errors in your scoring file's init() function.\\nPlease check the logs for your container instance: cv-webapi. From the AML SDK, you can run print(service.get_logs()) if you have service object to fetch the logs. \\nYou can also try to run image azuremldeploym7735310446.azurecr.io/cv-webapi:1 locally. Please refer to http://aka.ms/debugimage#service-launch-fails for more information.\",\n  \"details\": [\n    {\n      \"code\": \"CrashLoopBackOff\",\n      \"message\": \"Your container application crashed. This may be caused by errors in your scoring file's init() function.\\nPlease check the logs for your container instance: cv-webapi. From the AML SDK, you can run print(service.get_logs()) if you have service object to fetch the logs. \\nYou can also try to run image azuremldeploym7735310446.azurecr.io/cv-webapi:1 locally. Please refer to http://aka.ms/debugimage#service-launch-fails for more information.\"\n    }\n  ]\n}\n\n",
          "name": "stderr"
        },
        {
          "output_type": "error",
          "ename": "WebserviceException",
          "evalue": "WebserviceException:\n\tMessage: Service deployment polling reached non-successful terminal state, current service state: Failed\nMore information can be found using '.get_logs()'\nError:\n{\n  \"code\": \"AciDeploymentFailed\",\n  \"message\": \"Aci Deployment failed with exception: Your container application crashed. This may be caused by errors in your scoring file's init() function.\\nPlease check the logs for your container instance: cv-webapi. From the AML SDK, you can run print(service.get_logs()) if you have service object to fetch the logs. \\nYou can also try to run image azuremldeploym7735310446.azurecr.io/cv-webapi:1 locally. Please refer to http://aka.ms/debugimage#service-launch-fails for more information.\",\n  \"details\": [\n    {\n      \"code\": \"CrashLoopBackOff\",\n      \"message\": \"Your container application crashed. This may be caused by errors in your scoring file's init() function.\\nPlease check the logs for your container instance: cv-webapi. From the AML SDK, you can run print(service.get_logs()) if you have service object to fetch the logs. \\nYou can also try to run image azuremldeploym7735310446.azurecr.io/cv-webapi:1 locally. Please refer to http://aka.ms/debugimage#service-launch-fails for more information.\"\n    }\n  ]\n}\n\tInnerException None\n\tErrorResponse \n{\n    \"error\": {\n        \"message\": \"Service deployment polling reached non-successful terminal state, current service state: Failed\\nMore information can be found using '.get_logs()'\\nError:\\n{\\n  \\\"code\\\": \\\"AciDeploymentFailed\\\",\\n  \\\"message\\\": \\\"Aci Deployment failed with exception: Your container application crashed. This may be caused by errors in your scoring file's init() function.\\\\nPlease check the logs for your container instance: cv-webapi. From the AML SDK, you can run print(service.get_logs()) if you have service object to fetch the logs. \\\\nYou can also try to run image azuremldeploym7735310446.azurecr.io/cv-webapi:1 locally. Please refer to http://aka.ms/debugimage#service-launch-fails for more information.\\\",\\n  \\\"details\\\": [\\n    {\\n      \\\"code\\\": \\\"CrashLoopBackOff\\\",\\n      \\\"message\\\": \\\"Your container application crashed. This may be caused by errors in your scoring file's init() function.\\\\nPlease check the logs for your container instance: cv-webapi. From the AML SDK, you can run print(service.get_logs()) if you have service object to fetch the logs. \\\\nYou can also try to run image azuremldeploym7735310446.azurecr.io/cv-webapi:1 locally. Please refer to http://aka.ms/debugimage#service-launch-fails for more information.\\\"\\n    }\\n  ]\\n}\"\n    }\n}",
          "traceback": [
            "\u001b[0;31m---------------------------------------------------------------------------\u001b[0m",
            "\u001b[0;31mWebserviceException\u001b[0m                       Traceback (most recent call last)",
            "\u001b[0;32m~/anaconda3_501/lib/python3.6/site-packages/azureml/core/webservice/webservice.py\u001b[0m in \u001b[0;36mwait_for_deployment\u001b[0;34m(self, show_output)\u001b[0m\n\u001b[1;32m    512\u001b[0m                                           \u001b[0;34m'Error:\\n'\u001b[0m\u001b[0;34m\u001b[0m\u001b[0m\n\u001b[0;32m--> 513\u001b[0;31m                                           '{}'.format(self.state, logs_response, error_response), logger=module_logger)\n\u001b[0m\u001b[1;32m    514\u001b[0m             print('{} service creation operation finished, operation \"{}\"'.format(self._webservice_type,\n",
            "\u001b[0;31mWebserviceException\u001b[0m: WebserviceException:\n\tMessage: Service deployment polling reached non-successful terminal state, current service state: Failed\nMore information can be found using '.get_logs()'\nError:\n{\n  \"code\": \"AciDeploymentFailed\",\n  \"message\": \"Aci Deployment failed with exception: Your container application crashed. This may be caused by errors in your scoring file's init() function.\\nPlease check the logs for your container instance: cv-webapi. From the AML SDK, you can run print(service.get_logs()) if you have service object to fetch the logs. \\nYou can also try to run image azuremldeploym7735310446.azurecr.io/cv-webapi:1 locally. Please refer to http://aka.ms/debugimage#service-launch-fails for more information.\",\n  \"details\": [\n    {\n      \"code\": \"CrashLoopBackOff\",\n      \"message\": \"Your container application crashed. This may be caused by errors in your scoring file's init() function.\\nPlease check the logs for your container instance: cv-webapi. From the AML SDK, you can run print(service.get_logs()) if you have service object to fetch the logs. \\nYou can also try to run image azuremldeploym7735310446.azurecr.io/cv-webapi:1 locally. Please refer to http://aka.ms/debugimage#service-launch-fails for more information.\"\n    }\n  ]\n}\n\tInnerException None\n\tErrorResponse \n{\n    \"error\": {\n        \"message\": \"Service deployment polling reached non-successful terminal state, current service state: Failed\\nMore information can be found using '.get_logs()'\\nError:\\n{\\n  \\\"code\\\": \\\"AciDeploymentFailed\\\",\\n  \\\"message\\\": \\\"Aci Deployment failed with exception: Your container application crashed. This may be caused by errors in your scoring file's init() function.\\\\nPlease check the logs for your container instance: cv-webapi. From the AML SDK, you can run print(service.get_logs()) if you have service object to fetch the logs. \\\\nYou can also try to run image azuremldeploym7735310446.azurecr.io/cv-webapi:1 locally. Please refer to http://aka.ms/debugimage#service-launch-fails for more information.\\\",\\n  \\\"details\\\": [\\n    {\\n      \\\"code\\\": \\\"CrashLoopBackOff\\\",\\n      \\\"message\\\": \\\"Your container application crashed. This may be caused by errors in your scoring file's init() function.\\\\nPlease check the logs for your container instance: cv-webapi. From the AML SDK, you can run print(service.get_logs()) if you have service object to fetch the logs. \\\\nYou can also try to run image azuremldeploym7735310446.azurecr.io/cv-webapi:1 locally. Please refer to http://aka.ms/debugimage#service-launch-fails for more information.\\\"\\n    }\\n  ]\\n}\"\n    }\n}",
            "\nDuring handling of the above exception, another exception occurred:\n",
            "\u001b[0;31mWebserviceException\u001b[0m                       Traceback (most recent call last)",
            "\u001b[0;32m<ipython-input-20-1589feef4e0b>\u001b[0m in \u001b[0;36m<module>\u001b[0;34m\u001b[0m\n\u001b[1;32m     18\u001b[0m \u001b[0;34m\u001b[0m\u001b[0m\n\u001b[1;32m     19\u001b[0m \u001b[0;31m# The service deployment can take several minutes: wait for completion.\u001b[0m\u001b[0;34m\u001b[0m\u001b[0;34m\u001b[0m\u001b[0m\n\u001b[0;32m---> 20\u001b[0;31m \u001b[0mservice\u001b[0m\u001b[0;34m.\u001b[0m\u001b[0mwait_for_deployment\u001b[0m\u001b[0;34m(\u001b[0m\u001b[0mshow_output\u001b[0m \u001b[0;34m=\u001b[0m \u001b[0;32mTrue\u001b[0m\u001b[0;34m)\u001b[0m\u001b[0;34m\u001b[0m\u001b[0m\n\u001b[0m",
            "\u001b[0;32m~/anaconda3_501/lib/python3.6/site-packages/azureml/core/webservice/webservice.py\u001b[0m in \u001b[0;36mwait_for_deployment\u001b[0;34m(self, show_output)\u001b[0m\n\u001b[1;32m    520\u001b[0m                                           'Current state is {}'.format(self.state), logger=module_logger)\n\u001b[1;32m    521\u001b[0m             \u001b[0;32melse\u001b[0m\u001b[0;34m:\u001b[0m\u001b[0;34m\u001b[0m\u001b[0m\n\u001b[0;32m--> 522\u001b[0;31m                 \u001b[0;32mraise\u001b[0m \u001b[0mWebserviceException\u001b[0m\u001b[0;34m(\u001b[0m\u001b[0me\u001b[0m\u001b[0;34m.\u001b[0m\u001b[0mmessage\u001b[0m\u001b[0;34m,\u001b[0m \u001b[0mlogger\u001b[0m\u001b[0;34m=\u001b[0m\u001b[0mmodule_logger\u001b[0m\u001b[0;34m)\u001b[0m\u001b[0;34m\u001b[0m\u001b[0m\n\u001b[0m\u001b[1;32m    523\u001b[0m \u001b[0;34m\u001b[0m\u001b[0m\n\u001b[1;32m    524\u001b[0m     \u001b[0;32mdef\u001b[0m \u001b[0m_wait_for_operation_to_complete\u001b[0m\u001b[0;34m(\u001b[0m\u001b[0mself\u001b[0m\u001b[0;34m,\u001b[0m \u001b[0mshow_output\u001b[0m\u001b[0;34m)\u001b[0m\u001b[0;34m:\u001b[0m\u001b[0;34m\u001b[0m\u001b[0m\n",
            "\u001b[0;31mWebserviceException\u001b[0m: WebserviceException:\n\tMessage: Service deployment polling reached non-successful terminal state, current service state: Failed\nMore information can be found using '.get_logs()'\nError:\n{\n  \"code\": \"AciDeploymentFailed\",\n  \"message\": \"Aci Deployment failed with exception: Your container application crashed. This may be caused by errors in your scoring file's init() function.\\nPlease check the logs for your container instance: cv-webapi. From the AML SDK, you can run print(service.get_logs()) if you have service object to fetch the logs. \\nYou can also try to run image azuremldeploym7735310446.azurecr.io/cv-webapi:1 locally. Please refer to http://aka.ms/debugimage#service-launch-fails for more information.\",\n  \"details\": [\n    {\n      \"code\": \"CrashLoopBackOff\",\n      \"message\": \"Your container application crashed. This may be caused by errors in your scoring file's init() function.\\nPlease check the logs for your container instance: cv-webapi. From the AML SDK, you can run print(service.get_logs()) if you have service object to fetch the logs. \\nYou can also try to run image azuremldeploym7735310446.azurecr.io/cv-webapi:1 locally. Please refer to http://aka.ms/debugimage#service-launch-fails for more information.\"\n    }\n  ]\n}\n\tInnerException None\n\tErrorResponse \n{\n    \"error\": {\n        \"message\": \"Service deployment polling reached non-successful terminal state, current service state: Failed\\nMore information can be found using '.get_logs()'\\nError:\\n{\\n  \\\"code\\\": \\\"AciDeploymentFailed\\\",\\n  \\\"message\\\": \\\"Aci Deployment failed with exception: Your container application crashed. This may be caused by errors in your scoring file's init() function.\\\\nPlease check the logs for your container instance: cv-webapi. From the AML SDK, you can run print(service.get_logs()) if you have service object to fetch the logs. \\\\nYou can also try to run image azuremldeploym7735310446.azurecr.io/cv-webapi:1 locally. Please refer to http://aka.ms/debugimage#service-launch-fails for more information.\\\",\\n  \\\"details\\\": [\\n    {\\n      \\\"code\\\": \\\"CrashLoopBackOff\\\",\\n      \\\"message\\\": \\\"Your container application crashed. This may be caused by errors in your scoring file's init() function.\\\\nPlease check the logs for your container instance: cv-webapi. From the AML SDK, you can run print(service.get_logs()) if you have service object to fetch the logs. \\\\nYou can also try to run image azuremldeploym7735310446.azurecr.io/cv-webapi:1 locally. Please refer to http://aka.ms/debugimage#service-launch-fails for more information.\\\"\\n    }\\n  ]\\n}\"\n    }\n}"
          ]
        }
      ]
    },
    {
      "metadata": {
        "trusted": true
      },
      "cell_type": "code",
      "source": "from azureml.core.compute import AksCompute, ComputeTarget\nfrom azureml.core.webservice import Webservice, AksWebservice",
      "execution_count": 8,
      "outputs": []
    },
    {
      "metadata": {
        "trusted": true
      },
      "cell_type": "code",
      "source": "\n# Use the default configuration (can also provide parameters to customize)\nresource_id = '/subscriptions/7be2acd8-e2c7-4ec2-9ee7-697b22850d1e/resourcegroups/AILabsTest/providers/Microsoft.ContainerService/managedClusters/aks-cv-compute466392968'\n\ncreate_name='aks-cv-compute2' \n# Create the cluster\nattach_config = AksCompute.attach_configuration(resource_id=resource_id)\naks_target = ComputeTarget.attach(workspace=ws, name=create_name, attach_configuration=attach_config)\n# Wait for the operation to complete\naks_target.wait_for_completion(True)\n",
      "execution_count": 25,
      "outputs": [
        {
          "output_type": "stream",
          "text": "Creating.........................................................\nSucceededProvisioning operation finished, operation \"Succeeded\"\n",
          "name": "stdout"
        }
      ]
    },
    {
      "metadata": {
        "trusted": true
      },
      "cell_type": "code",
      "source": "#create_name='aks-cv-config' \n# Use the default configuration (can also provide parameters to customize)\nprov_config = AksCompute.provisioning_configuration()\n\naks_name = 'aks-cv-1' \n# Create the cluster\naks_target = ComputeTarget.create(workspace = ws, \n                                  name = aks_name, \n                                  provisioning_configuration = prov_config)",
      "execution_count": 11,
      "outputs": []
    },
    {
      "metadata": {
        "trusted": true
      },
      "cell_type": "code",
      "source": "%%time\n#aks_target.wait_for_completion(show_output = True)\nprint(aks_target.provisioning_state)\nprint(aks_target.provisioning_errors)",
      "execution_count": 26,
      "outputs": [
        {
          "output_type": "stream",
          "text": "Succeeded\nNone\nCPU times: user 0 ns, sys: 2.53 ms, total: 2.53 ms\nWall time: 1.73 ms\n",
          "name": "stdout"
        }
      ]
    },
    {
      "metadata": {
        "trusted": true
      },
      "cell_type": "code",
      "source": "aks_config = AksWebservice.deploy_configuration()",
      "execution_count": 27,
      "outputs": []
    },
    {
      "metadata": {
        "trusted": true
      },
      "cell_type": "code",
      "source": "from azureml.core.image import ContainerImage\n\nimage_config = ContainerImage.image_configuration(execution_script = \"score.py\",\n                                                  runtime = \"python\",\n                                                  conda_file = \"myenv.yml\",\n                                                  description = \"Image with cv model\",\n                                                  tags = {'area': \"cv\", 'type': \"cv\"}\n                                                 )\n\nimage = ContainerImage.create(name = \"cvimage1\",\n                              # this is the model object\n                              models = [model],\n                              image_config = image_config,\n                              workspace = ws)\n\nimage.wait_for_creation(show_output = True)",
      "execution_count": 20,
      "outputs": [
        {
          "output_type": "stream",
          "text": "Creating image\nRunning................................\nSucceeded\nImage creation operation finished for image cvimage1:1, operation \"Succeeded\"\n",
          "name": "stdout"
        }
      ]
    },
    {
      "metadata": {
        "trusted": true
      },
      "cell_type": "code",
      "source": "%%time\naks_service_name ='aks-cv-api'\n\naks_service = Webservice.deploy_from_image(workspace = ws, \n                                           name = aks_service_name,\n                                           image = image,\n                                           deployment_config = aks_config,\n                                           deployment_target = aks_target)\naks_service.wait_for_deployment(show_output = True)\nprint(aks_service.state)\nprint(aks_service.get_logs())",
      "execution_count": 28,
      "outputs": [
        {
          "output_type": "stream",
          "text": "Creating service\nRunning........\nFailed",
          "name": "stdout"
        },
        {
          "output_type": "stream",
          "text": "ERROR - Service deployment polling reached non-successful terminal state, current service state: Failed\nMore information can be found using '.get_logs()'\nError:\n{\n  \"code\": \"KubernetesDeploymentFailed\",\n  \"statusCode\": 400,\n  \"message\": \"Kubernetes Deployment failed\",\n  \"details\": [\n    {\n      \"code\": \"CrashLoopBackOff\",\n      \"message\": \"Your container application crashed. This may be caused by errors in your scoring file's init() function.\\nPlease check the logs for your container instance: aks-cv-api. From the AML SDK, you can run print(service.get_logs()) if you have service object to fetch the logs. \\nYou can also try to run image azuremldeploym7735310446.azurecr.io/cvimage1:1 locally. Please refer to http://aka.ms/debugimage#service-launch-fails for more information.\"\n    }\n  ]\n}\n\nERROR - Service deployment polling reached non-successful terminal state, current service state: Failed\nMore information can be found using '.get_logs()'\nError:\n{\n  \"code\": \"KubernetesDeploymentFailed\",\n  \"statusCode\": 400,\n  \"message\": \"Kubernetes Deployment failed\",\n  \"details\": [\n    {\n      \"code\": \"CrashLoopBackOff\",\n      \"message\": \"Your container application crashed. This may be caused by errors in your scoring file's init() function.\\nPlease check the logs for your container instance: aks-cv-api. From the AML SDK, you can run print(service.get_logs()) if you have service object to fetch the logs. \\nYou can also try to run image azuremldeploym7735310446.azurecr.io/cvimage1:1 locally. Please refer to http://aka.ms/debugimage#service-launch-fails for more information.\"\n    }\n  ]\n}\n\n",
          "name": "stderr"
        },
        {
          "output_type": "error",
          "ename": "WebserviceException",
          "evalue": "WebserviceException:\n\tMessage: Service deployment polling reached non-successful terminal state, current service state: Failed\nMore information can be found using '.get_logs()'\nError:\n{\n  \"code\": \"KubernetesDeploymentFailed\",\n  \"statusCode\": 400,\n  \"message\": \"Kubernetes Deployment failed\",\n  \"details\": [\n    {\n      \"code\": \"CrashLoopBackOff\",\n      \"message\": \"Your container application crashed. This may be caused by errors in your scoring file's init() function.\\nPlease check the logs for your container instance: aks-cv-api. From the AML SDK, you can run print(service.get_logs()) if you have service object to fetch the logs. \\nYou can also try to run image azuremldeploym7735310446.azurecr.io/cvimage1:1 locally. Please refer to http://aka.ms/debugimage#service-launch-fails for more information.\"\n    }\n  ]\n}\n\tInnerException None\n\tErrorResponse \n{\n    \"error\": {\n        \"message\": \"Service deployment polling reached non-successful terminal state, current service state: Failed\\nMore information can be found using '.get_logs()'\\nError:\\n{\\n  \\\"code\\\": \\\"KubernetesDeploymentFailed\\\",\\n  \\\"statusCode\\\": 400,\\n  \\\"message\\\": \\\"Kubernetes Deployment failed\\\",\\n  \\\"details\\\": [\\n    {\\n      \\\"code\\\": \\\"CrashLoopBackOff\\\",\\n      \\\"message\\\": \\\"Your container application crashed. This may be caused by errors in your scoring file's init() function.\\\\nPlease check the logs for your container instance: aks-cv-api. From the AML SDK, you can run print(service.get_logs()) if you have service object to fetch the logs. \\\\nYou can also try to run image azuremldeploym7735310446.azurecr.io/cvimage1:1 locally. Please refer to http://aka.ms/debugimage#service-launch-fails for more information.\\\"\\n    }\\n  ]\\n}\"\n    }\n}",
          "traceback": [
            "\u001b[0;31m---------------------------------------------------------------------------\u001b[0m",
            "\u001b[0;31mWebserviceException\u001b[0m                       Traceback (most recent call last)",
            "\u001b[0;32m~/anaconda3_501/lib/python3.6/site-packages/azureml/core/webservice/webservice.py\u001b[0m in \u001b[0;36mwait_for_deployment\u001b[0;34m(self, show_output)\u001b[0m\n\u001b[1;32m    512\u001b[0m                                           \u001b[0;34m'Error:\\n'\u001b[0m\u001b[0;34m\u001b[0m\u001b[0m\n\u001b[0;32m--> 513\u001b[0;31m                                           '{}'.format(self.state, logs_response, error_response), logger=module_logger)\n\u001b[0m\u001b[1;32m    514\u001b[0m             print('{} service creation operation finished, operation \"{}\"'.format(self._webservice_type,\n",
            "\u001b[0;31mWebserviceException\u001b[0m: WebserviceException:\n\tMessage: Service deployment polling reached non-successful terminal state, current service state: Failed\nMore information can be found using '.get_logs()'\nError:\n{\n  \"code\": \"KubernetesDeploymentFailed\",\n  \"statusCode\": 400,\n  \"message\": \"Kubernetes Deployment failed\",\n  \"details\": [\n    {\n      \"code\": \"CrashLoopBackOff\",\n      \"message\": \"Your container application crashed. This may be caused by errors in your scoring file's init() function.\\nPlease check the logs for your container instance: aks-cv-api. From the AML SDK, you can run print(service.get_logs()) if you have service object to fetch the logs. \\nYou can also try to run image azuremldeploym7735310446.azurecr.io/cvimage1:1 locally. Please refer to http://aka.ms/debugimage#service-launch-fails for more information.\"\n    }\n  ]\n}\n\tInnerException None\n\tErrorResponse \n{\n    \"error\": {\n        \"message\": \"Service deployment polling reached non-successful terminal state, current service state: Failed\\nMore information can be found using '.get_logs()'\\nError:\\n{\\n  \\\"code\\\": \\\"KubernetesDeploymentFailed\\\",\\n  \\\"statusCode\\\": 400,\\n  \\\"message\\\": \\\"Kubernetes Deployment failed\\\",\\n  \\\"details\\\": [\\n    {\\n      \\\"code\\\": \\\"CrashLoopBackOff\\\",\\n      \\\"message\\\": \\\"Your container application crashed. This may be caused by errors in your scoring file's init() function.\\\\nPlease check the logs for your container instance: aks-cv-api. From the AML SDK, you can run print(service.get_logs()) if you have service object to fetch the logs. \\\\nYou can also try to run image azuremldeploym7735310446.azurecr.io/cvimage1:1 locally. Please refer to http://aka.ms/debugimage#service-launch-fails for more information.\\\"\\n    }\\n  ]\\n}\"\n    }\n}",
            "\nDuring handling of the above exception, another exception occurred:\n",
            "\u001b[0;31mWebserviceException\u001b[0m                       Traceback (most recent call last)",
            "\u001b[0;32m<timed exec>\u001b[0m in \u001b[0;36m<module>\u001b[0;34m\u001b[0m\n",
            "\u001b[0;32m~/anaconda3_501/lib/python3.6/site-packages/azureml/core/webservice/webservice.py\u001b[0m in \u001b[0;36mwait_for_deployment\u001b[0;34m(self, show_output)\u001b[0m\n\u001b[1;32m    520\u001b[0m                                           'Current state is {}'.format(self.state), logger=module_logger)\n\u001b[1;32m    521\u001b[0m             \u001b[0;32melse\u001b[0m\u001b[0;34m:\u001b[0m\u001b[0;34m\u001b[0m\u001b[0m\n\u001b[0;32m--> 522\u001b[0;31m                 \u001b[0;32mraise\u001b[0m \u001b[0mWebserviceException\u001b[0m\u001b[0;34m(\u001b[0m\u001b[0me\u001b[0m\u001b[0;34m.\u001b[0m\u001b[0mmessage\u001b[0m\u001b[0;34m,\u001b[0m \u001b[0mlogger\u001b[0m\u001b[0;34m=\u001b[0m\u001b[0mmodule_logger\u001b[0m\u001b[0;34m)\u001b[0m\u001b[0;34m\u001b[0m\u001b[0m\n\u001b[0m\u001b[1;32m    523\u001b[0m \u001b[0;34m\u001b[0m\u001b[0m\n\u001b[1;32m    524\u001b[0m     \u001b[0;32mdef\u001b[0m \u001b[0m_wait_for_operation_to_complete\u001b[0m\u001b[0;34m(\u001b[0m\u001b[0mself\u001b[0m\u001b[0;34m,\u001b[0m \u001b[0mshow_output\u001b[0m\u001b[0;34m)\u001b[0m\u001b[0;34m:\u001b[0m\u001b[0;34m\u001b[0m\u001b[0m\n",
            "\u001b[0;31mWebserviceException\u001b[0m: WebserviceException:\n\tMessage: Service deployment polling reached non-successful terminal state, current service state: Failed\nMore information can be found using '.get_logs()'\nError:\n{\n  \"code\": \"KubernetesDeploymentFailed\",\n  \"statusCode\": 400,\n  \"message\": \"Kubernetes Deployment failed\",\n  \"details\": [\n    {\n      \"code\": \"CrashLoopBackOff\",\n      \"message\": \"Your container application crashed. This may be caused by errors in your scoring file's init() function.\\nPlease check the logs for your container instance: aks-cv-api. From the AML SDK, you can run print(service.get_logs()) if you have service object to fetch the logs. \\nYou can also try to run image azuremldeploym7735310446.azurecr.io/cvimage1:1 locally. Please refer to http://aka.ms/debugimage#service-launch-fails for more information.\"\n    }\n  ]\n}\n\tInnerException None\n\tErrorResponse \n{\n    \"error\": {\n        \"message\": \"Service deployment polling reached non-successful terminal state, current service state: Failed\\nMore information can be found using '.get_logs()'\\nError:\\n{\\n  \\\"code\\\": \\\"KubernetesDeploymentFailed\\\",\\n  \\\"statusCode\\\": 400,\\n  \\\"message\\\": \\\"Kubernetes Deployment failed\\\",\\n  \\\"details\\\": [\\n    {\\n      \\\"code\\\": \\\"CrashLoopBackOff\\\",\\n      \\\"message\\\": \\\"Your container application crashed. This may be caused by errors in your scoring file's init() function.\\\\nPlease check the logs for your container instance: aks-cv-api. From the AML SDK, you can run print(service.get_logs()) if you have service object to fetch the logs. \\\\nYou can also try to run image azuremldeploym7735310446.azurecr.io/cvimage1:1 locally. Please refer to http://aka.ms/debugimage#service-launch-fails for more information.\\\"\\n    }\\n  ]\\n}\"\n    }\n}"
          ]
        }
      ]
    },
    {
      "metadata": {},
      "cell_type": "markdown",
      "source": "You can try out the web service by passing in data as json-formatted request. Run the cell below and move the slider around to see real-time responses."
    },
    {
      "metadata": {
        "trusted": true
      },
      "cell_type": "code",
      "source": "from ipywidgets import interact\n\ndef get_area(radius):\n    request = json.dumps({\"radius\": radius})\n    response = service.run(input_data = request)\n    return json.loads(response)[\"area\"]\n\ninteract(get_area,radius=(0,10))",
      "execution_count": 12,
      "outputs": [
        {
          "output_type": "display_data",
          "data": {
            "application/vnd.jupyter.widget-view+json": {
              "model_id": "fc73983dea02468da403dba1ea23c02e",
              "version_minor": 0,
              "version_major": 2
            },
            "text/plain": "interactive(children=(IntSlider(value=5, description='radius', max=10), Output()), _dom_classes=('widget-inter…"
          },
          "metadata": {}
        },
        {
          "output_type": "execute_result",
          "execution_count": 12,
          "data": {
            "text/plain": "<function __main__.get_area(radius)>"
          },
          "metadata": {}
        }
      ]
    },
    {
      "metadata": {},
      "cell_type": "markdown",
      "source": "Finally, delete the web service once you're done, so it's not consuming resources."
    },
    {
      "metadata": {
        "trusted": true
      },
      "cell_type": "code",
      "source": "service.delete()",
      "execution_count": null,
      "outputs": []
    },
    {
      "metadata": {},
      "cell_type": "markdown",
      "source": "As your next step, take a look at the more detailed tutorial for building an image classification model using Azure Machine Learning service.\n\n[tutorials/img-classification-part1-training](./tutorials/img-classification-part1-training.ipynb)"
    },
    {
      "metadata": {
        "trusted": true
      },
      "cell_type": "code",
      "source": "",
      "execution_count": null,
      "outputs": []
    }
  ],
  "metadata": {
    "kernelspec": {
      "name": "python36",
      "display_name": "Python 3.6",
      "language": "python"
    },
    "language_info": {
      "mimetype": "text/x-python",
      "nbconvert_exporter": "python",
      "name": "python",
      "pygments_lexer": "ipython3",
      "version": "3.6.6",
      "file_extension": ".py",
      "codemirror_mode": {
        "version": 3,
        "name": "ipython"
      }
    }
  },
  "nbformat": 4,
  "nbformat_minor": 2
}