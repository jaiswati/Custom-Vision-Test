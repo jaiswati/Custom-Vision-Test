{
  "cells": [
    {
      "metadata": {
        "trusted": true
      },
      "cell_type": "code",
      "source": "!pip install tensorflow\n!pip install pillow\n!pip install numpy\n!pip install opencv-python",
      "execution_count": 2,
      "outputs": [
        {
          "output_type": "stream",
          "text": "Requirement already satisfied: tensorflow in /home/nbuser/anaconda3_420/lib/python3.5/site-packages (1.7.0)\nRequirement already satisfied: gast>=0.2.0 in /home/nbuser/anaconda3_420/lib/python3.5/site-packages (from tensorflow) (0.2.2)\nRequirement already satisfied: protobuf>=3.4.0 in /home/nbuser/anaconda3_420/lib/python3.5/site-packages (from tensorflow) (3.4.1)\nRequirement already satisfied: wheel>=0.26 in /home/nbuser/anaconda3_420/lib/python3.5/site-packages (from tensorflow) (0.29.0)\nRequirement already satisfied: termcolor>=1.1.0 in /home/nbuser/anaconda3_420/lib/python3.5/site-packages (from tensorflow) (1.1.0)\nRequirement already satisfied: six>=1.10.0 in /home/nbuser/anaconda3_420/lib/python3.5/site-packages (from tensorflow) (1.11.0)\nRequirement already satisfied: tensorboard<1.8.0,>=1.7.0 in /home/nbuser/anaconda3_420/lib/python3.5/site-packages (from tensorflow) (1.7.0)\nRequirement already satisfied: numpy>=1.13.3 in /home/nbuser/anaconda3_420/lib/python3.5/site-packages (from tensorflow) (1.17.0)\nRequirement already satisfied: astor>=0.6.0 in /home/nbuser/anaconda3_420/lib/python3.5/site-packages (from tensorflow) (0.8.0)\nRequirement already satisfied: grpcio>=1.8.6 in /home/nbuser/anaconda3_420/lib/python3.5/site-packages (from tensorflow) (1.23.0)\nRequirement already satisfied: absl-py>=0.1.6 in /home/nbuser/anaconda3_420/lib/python3.5/site-packages (from tensorflow) (0.8.0)\nRequirement already satisfied: setuptools in /home/nbuser/anaconda3_420/lib/python3.5/site-packages (from protobuf>=3.4.0->tensorflow) (41.1.0)\nRequirement already satisfied: werkzeug>=0.11.10 in /home/nbuser/anaconda3_420/lib/python3.5/site-packages (from tensorboard<1.8.0,>=1.7.0->tensorflow) (0.11.11)\nRequirement already satisfied: html5lib==0.9999999 in /home/nbuser/anaconda3_420/lib/python3.5/site-packages (from tensorboard<1.8.0,>=1.7.0->tensorflow) (0.9999999)\nRequirement already satisfied: bleach==1.5.0 in /home/nbuser/anaconda3_420/lib/python3.5/site-packages (from tensorboard<1.8.0,>=1.7.0->tensorflow) (1.5.0)\nRequirement already satisfied: markdown>=2.6.8 in /home/nbuser/anaconda3_420/lib/python3.5/site-packages (from tensorboard<1.8.0,>=1.7.0->tensorflow) (3.1.1)\n\u001b[33mWARNING: You are using pip version 19.2.2, however version 19.2.3 is available.\nYou should consider upgrading via the 'pip install --upgrade pip' command.\u001b[0m\nRequirement already satisfied: pillow in /home/nbuser/anaconda3_420/lib/python3.5/site-packages (4.3.0)\nRequirement already satisfied: olefile in /home/nbuser/anaconda3_420/lib/python3.5/site-packages (from pillow) (0.44)\n\u001b[33mWARNING: You are using pip version 19.2.2, however version 19.2.3 is available.\nYou should consider upgrading via the 'pip install --upgrade pip' command.\u001b[0m\nRequirement already satisfied: numpy in /home/nbuser/anaconda3_420/lib/python3.5/site-packages (1.17.0)\n\u001b[33mWARNING: You are using pip version 19.2.2, however version 19.2.3 is available.\nYou should consider upgrading via the 'pip install --upgrade pip' command.\u001b[0m\nCollecting opencv-python\n\u001b[?25l  Downloading https://files.pythonhosted.org/packages/85/3d/7c8275de69dfa1bff12392d0ecaf0523cdc656e660448e7f723bd867a9e1/opencv_python-4.1.1.26-cp35-cp35m-manylinux1_x86_64.whl (28.7MB)\n\u001b[K     |████████████████████████████████| 28.7MB 8.0kB/s eta 0:00:01                               | 870kB 1.8MB/s eta 0:00:16     |███████▋                        | 6.8MB 1.8MB/s eta 0:00:13     |██████████▊                     | 9.6MB 3.3MB/s eta 0:00:06     |███████████▉                    | 10.6MB 3.3MB/s eta 0:00:06██████████████▎                 | 12.8MB 3.3MB/s eta 0:00:05     |█████████████████████████████   | 26.1MB 498kB/s eta 0:00:06\n\u001b[?25hRequirement already satisfied: numpy>=1.11.1 in /home/nbuser/anaconda3_420/lib/python3.5/site-packages (from opencv-python) (1.17.0)\nInstalling collected packages: opencv-python\nSuccessfully installed opencv-python-4.1.1.26\n\u001b[33mWARNING: You are using pip version 19.2.2, however version 19.2.3 is available.\nYou should consider upgrading via the 'pip install --upgrade pip' command.\u001b[0m\n",
          "name": "stdout"
        }
      ]
    },
    {
      "metadata": {
        "trusted": true
      },
      "cell_type": "code",
      "source": "!pip install tensorflow --upgrade pip",
      "execution_count": 5,
      "outputs": [
        {
          "output_type": "stream",
          "text": "Collecting tensorflow\n\u001b[?25l  Downloading https://files.pythonhosted.org/packages/7c/fb/7b2c5b3e85ad335b53ca67deb2ef4af574dc0a8759f43b7f45e15005e449/tensorflow-1.14.0-cp35-cp35m-manylinux1_x86_64.whl (109.2MB)\n\u001b[K     |████████████████████████████████| 109.2MB 2.7kB/s eta 0:00:01    |█████                           | 16.8MB 1.4MB/s eta 0:01:08     |█████▌                          | 18.8MB 1.5MB/s eta 0:01:02███▋                        | 26.1MB 568kB/s eta 0:02:27     |███████▉                        | 26.7MB 568kB/s eta 0:02:26███▌                  | 46.1MB 3.3MB/s eta 0:00:20     |██████████████▎                 | 48.8MB 1.5MB/s eta 0:00:40     |████████████████                | 54.5MB 611kB/s eta 0:01:30     |█████████████████               | 57.9MB 246kB/s eta 0:03:29     |███████████████████▏            | 65.3MB 177kB/s eta 0:04:08     |███████████████████▍            | 66.2MB 177kB/s eta 0:04:03     |████████████████████▌           | 70.1MB 982kB/s eta 0:00:40     |█████████████████████▋          | 73.6MB 153kB/s eta 0:03:52     |█████████████████████▊          | 74.2MB 153kB/s eta 0:03:48     |██████████████████████▋         | 77.0MB 229kB/s eta 0:02:21     |███████████████████████▎        | 79.4MB 637kB/s eta 0:00:47     |███████████████████████▋        | 80.4MB 580kB/s eta 0:00:50��▌       | 83.4MB 225kB/s eta 0:01:55     |████████████████████████▉       | 84.9MB 225kB/s eta 0:01:48\n\u001b[?25hCollecting pip\n\u001b[?25l  Downloading https://files.pythonhosted.org/packages/30/db/9e38760b32e3e7f40cce46dd5fb107b8c73840df38f0046d8e6514e675a1/pip-19.2.3-py2.py3-none-any.whl (1.4MB)\n\u001b[K     |████████████████████████████████| 1.4MB 8.5MB/s eta 0:00:01     |███████████████████▊            | 870kB 8.5MB/s eta 0:00:01\n\u001b[?25hRequirement already satisfied, skipping upgrade: grpcio>=1.8.6 in /home/nbuser/anaconda3_420/lib/python3.5/site-packages (from tensorflow) (1.23.0)\nCollecting keras-preprocessing>=1.0.5 (from tensorflow)\n\u001b[?25l  Downloading https://files.pythonhosted.org/packages/28/6a/8c1f62c37212d9fc441a7e26736df51ce6f0e38455816445471f10da4f0a/Keras_Preprocessing-1.1.0-py2.py3-none-any.whl (41kB)\n\u001b[K     |████████████████████████████████| 51kB 5.7MB/s  eta 0:00:01\n\u001b[?25hCollecting tensorboard<1.15.0,>=1.14.0 (from tensorflow)\n\u001b[?25l  Downloading https://files.pythonhosted.org/packages/91/2d/2ed263449a078cd9c8a9ba50ebd50123adf1f8cfbea1492f9084169b89d9/tensorboard-1.14.0-py3-none-any.whl (3.1MB)\n\u001b[K     |████████████████████████████████| 3.2MB 25.3MB/s eta 0:00:01     |██████████████████              | 1.8MB 25.3MB/s eta 0:00:01\n\u001b[?25hCollecting google-pasta>=0.1.6 (from tensorflow)\n\u001b[?25l  Downloading https://files.pythonhosted.org/packages/d0/33/376510eb8d6246f3c30545f416b2263eee461e40940c2a4413c711bdf62d/google_pasta-0.1.7-py3-none-any.whl (52kB)\n\u001b[K     |████████████████████████████████| 61kB 5.8MB/s eta 0:00:011\n\u001b[?25hRequirement already satisfied, skipping upgrade: numpy<2.0,>=1.14.5 in /home/nbuser/anaconda3_420/lib/python3.5/site-packages (from tensorflow) (1.17.0)\nCollecting protobuf>=3.6.1 (from tensorflow)\n\u001b[?25l  Downloading https://files.pythonhosted.org/packages/22/cb/8ca68af4233c09f2dd9833f3b9c6d8e706da2d33988dfb3732a777e15e4b/protobuf-3.9.1-cp35-cp35m-manylinux1_x86_64.whl (1.2MB)\n\u001b[K     |████████████████████████████████| 1.2MB 9.4MB/s eta 0:00:01     |███████▌                        | 286kB 9.4MB/s eta 0:00:01\n\u001b[?25hCollecting tensorflow-estimator<1.15.0rc0,>=1.14.0rc0 (from tensorflow)\n\u001b[?25l  Downloading https://files.pythonhosted.org/packages/3c/d5/21860a5b11caf0678fbc8319341b0ae21a07156911132e0e71bffed0510d/tensorflow_estimator-1.14.0-py2.py3-none-any.whl (488kB)\n\u001b[K     |████████████████████████████████| 491kB 7.0MB/s eta 0:00:01��█████████████████████▏       | 368kB 7.0MB/s eta 0:00:01\n\u001b[?25hCollecting keras-applications>=1.0.6 (from tensorflow)\n\u001b[?25l  Downloading https://files.pythonhosted.org/packages/71/e3/19762fdfc62877ae9102edf6342d71b28fbfd9dea3d2f96a882ce099b03f/Keras_Applications-1.0.8-py3-none-any.whl (50kB)\n\u001b[K     |████████████████████████████████| 51kB 13.8MB/s eta 0:00:01\n\u001b[?25hRequirement already satisfied, skipping upgrade: astor>=0.6.0 in /home/nbuser/anaconda3_420/lib/python3.5/site-packages (from tensorflow) (0.8.0)\nCollecting wrapt>=1.11.1 (from tensorflow)\n  Downloading https://files.pythonhosted.org/packages/23/84/323c2415280bc4fc880ac5050dddfb3c8062c2552b34c2e512eb4aa68f79/wrapt-1.11.2.tar.gz\nRequirement already satisfied, skipping upgrade: gast>=0.2.0 in /home/nbuser/anaconda3_420/lib/python3.5/site-packages (from tensorflow) (0.2.2)\nRequirement already satisfied, skipping upgrade: six>=1.10.0 in /home/nbuser/anaconda3_420/lib/python3.5/site-packages (from tensorflow) (1.11.0)\nRequirement already satisfied, skipping upgrade: absl-py>=0.7.0 in /home/nbuser/anaconda3_420/lib/python3.5/site-packages (from tensorflow) (0.8.0)\nRequirement already satisfied, skipping upgrade: termcolor>=1.1.0 in /home/nbuser/anaconda3_420/lib/python3.5/site-packages (from tensorflow) (1.1.0)\nRequirement already satisfied, skipping upgrade: wheel>=0.26 in /home/nbuser/anaconda3_420/lib/python3.5/site-packages (from tensorflow) (0.29.0)\nRequirement already satisfied, skipping upgrade: markdown>=2.6.8 in /home/nbuser/anaconda3_420/lib/python3.5/site-packages (from tensorboard<1.15.0,>=1.14.0->tensorflow) (3.1.1)\nRequirement already satisfied, skipping upgrade: setuptools>=41.0.0 in /home/nbuser/anaconda3_420/lib/python3.5/site-packages (from tensorboard<1.15.0,>=1.14.0->tensorflow) (41.1.0)\nCollecting werkzeug>=0.11.15 (from tensorboard<1.15.0,>=1.14.0->tensorflow)\n\u001b[?25l  Downloading https://files.pythonhosted.org/packages/b7/61/c0a1adf9ad80db012ed7191af98fa05faa95fa09eceb71bb6fa8b66e6a43/Werkzeug-0.15.6-py2.py3-none-any.whl (328kB)\n\u001b[K     |████████████████████████████████| 337kB 3.4MB/s eta 0:00:01\n\u001b[?25hRequirement already satisfied, skipping upgrade: h5py in /home/nbuser/anaconda3_420/lib/python3.5/site-packages (from keras-applications>=1.0.6->tensorflow) (2.7.1)\nBuilding wheels for collected packages: wrapt\n  Building wheel for wrapt (setup.py) ... \u001b[?25ldone\n\u001b[?25h  Created wheel for wrapt: filename=wrapt-1.11.2-cp35-cp35m-linux_x86_64.whl size=68100 sha256=afe2f86921430b95d898ca3a18b945d817f383cd4d08b02b25b1cfca114fc5af\n  Stored in directory: /home/nbuser/.cache/pip/wheels/d7/de/2e/efa132238792efb6459a96e85916ef8597fcb3d2ae51590dfd\nSuccessfully built wrapt\nInstalling collected packages: keras-preprocessing, protobuf, werkzeug, tensorboard, google-pasta, tensorflow-estimator, keras-applications, wrapt, tensorflow, pip\n  Found existing installation: protobuf 3.4.1\n    Uninstalling protobuf-3.4.1:\n      Successfully uninstalled protobuf-3.4.1\n  Found existing installation: Werkzeug 0.11.11\n\u001b[31mERROR: Cannot uninstall 'Werkzeug'. It is a distutils installed project and thus we cannot accurately determine which files belong to it which would lead to only a partial uninstall.\u001b[0m\n\u001b[33mWARNING: You are using pip version 19.2.2, however version 19.2.3 is available.\nYou should consider upgrading via the 'pip install --upgrade pip' command.\u001b[0m\n",
          "name": "stdout"
        }
      ]
    },
    {
      "metadata": {
        "trusted": true
      },
      "cell_type": "code",
      "source": "!pip install --upgrade pip",
      "execution_count": 7,
      "outputs": [
        {
          "output_type": "stream",
          "text": "Collecting pip\n  Using cached https://files.pythonhosted.org/packages/30/db/9e38760b32e3e7f40cce46dd5fb107b8c73840df38f0046d8e6514e675a1/pip-19.2.3-py2.py3-none-any.whl\nInstalling collected packages: pip\n  Found existing installation: pip 19.2.2\n    Uninstalling pip-19.2.2:\n      Successfully uninstalled pip-19.2.2\nSuccessfully installed pip-19.2.3\n",
          "name": "stdout"
        }
      ]
    },
    {
      "metadata": {
        "trusted": true
      },
      "cell_type": "code",
      "source": "!pip install tensorflow==2.0.0-rc0 ",
      "execution_count": 9,
      "outputs": [
        {
          "output_type": "stream",
          "text": "Collecting tensorflow==2.0.0-rc0\n\u001b[?25l  Downloading https://files.pythonhosted.org/packages/11/ea/3a9917b2f6862ba5db774bbbe0d03602aa76dfa64331753936097353f126/tensorflow-2.0.0rc0-cp35-cp35m-manylinux2010_x86_64.whl (86.3MB)\n\u001b[K     |████████████████████████████████| 86.3MB 215kB/s eta 0:00:013   |▌                               | 1.3MB 2.7MB/s eta 0:00:32     |█████▋                          | 15.3MB 6.0MB/s eta 0:00:12     |████████▎                       | 22.3MB 5.0MB/s eta 0:00:13     |███████████▌                    | 31.0MB 9.6MB/s eta 0:00:06     |█████████████▋                  | 36.7MB 7.0MB/s eta 0:00:08     |█████████████▊                  | 37.0MB 7.0MB/s eta 0:00:08     |█████████████████████████▋      | 69.2MB 6.7MB/s eta 0:00:03ta 0:00:01\n\u001b[?25hRequirement already satisfied: numpy<2.0,>=1.16.0 in /home/nbuser/anaconda3_420/lib/python3.5/site-packages (from tensorflow==2.0.0-rc0) (1.17.0)\nCollecting tb-nightly<1.15.0a20190807,>=1.15.0a20190806 (from tensorflow==2.0.0-rc0)\n\u001b[?25l  Downloading https://files.pythonhosted.org/packages/bc/88/24b5fb7280e74c7cf65bde47c171547fd02afb3840cff41bcbe9270650f5/tb_nightly-1.15.0a20190806-py3-none-any.whl (4.3MB)\n\u001b[K     |████████████████████████████████| 4.3MB 9.2MB/s eta 0:00:01     | 686kB 9.2MB/s eta 0:00:01\n\u001b[?25hCollecting keras-applications>=1.0.8 (from tensorflow==2.0.0-rc0)\n  Using cached https://files.pythonhosted.org/packages/71/e3/19762fdfc62877ae9102edf6342d71b28fbfd9dea3d2f96a882ce099b03f/Keras_Applications-1.0.8-py3-none-any.whl\nCollecting enum34>=1.1.6 (from tensorflow==2.0.0-rc0)\n  Downloading https://files.pythonhosted.org/packages/af/42/cb9355df32c69b553e72a2e28daee25d1611d2c0d9c272aa1d34204205b2/enum34-1.1.6-py3-none-any.whl\nRequirement already satisfied: absl-py>=0.7.0 in /home/nbuser/anaconda3_420/lib/python3.5/site-packages (from tensorflow==2.0.0-rc0) (0.8.0)\nRequirement already satisfied: keras-preprocessing>=1.0.5 in /home/nbuser/anaconda3_420/lib/python3.5/site-packages (from tensorflow==2.0.0-rc0) (1.1.0)\nRequirement already satisfied: termcolor>=1.1.0 in /home/nbuser/anaconda3_420/lib/python3.5/site-packages (from tensorflow==2.0.0-rc0) (1.1.0)\nRequirement already satisfied: gast>=0.2.0 in /home/nbuser/anaconda3_420/lib/python3.5/site-packages (from tensorflow==2.0.0-rc0) (0.2.2)\nCollecting google-pasta>=0.1.6 (from tensorflow==2.0.0-rc0)\n  Using cached https://files.pythonhosted.org/packages/d0/33/376510eb8d6246f3c30545f416b2263eee461e40940c2a4413c711bdf62d/google_pasta-0.1.7-py3-none-any.whl\nRequirement already satisfied: six>=1.10.0 in /home/nbuser/anaconda3_420/lib/python3.5/site-packages (from tensorflow==2.0.0-rc0) (1.11.0)\nRequirement already satisfied: protobuf>=3.6.1 in /home/nbuser/anaconda3_420/lib/python3.5/site-packages (from tensorflow==2.0.0-rc0) (3.9.1)\nCollecting opt-einsum>=2.3.2 (from tensorflow==2.0.0-rc0)\n\u001b[?25l  Downloading https://files.pythonhosted.org/packages/c0/1a/ab5683d8e450e380052d3a3e77bb2c9dffa878058f583587c3875041fb63/opt_einsum-3.0.1.tar.gz (66kB)\n\u001b[K     |████████████████████████████████| 71kB 5.3MB/s  eta 0:00:01\n\u001b[?25hCollecting backports.weakref>=1.0rc1 (from tensorflow==2.0.0-rc0)\n  Downloading https://files.pythonhosted.org/packages/88/ec/f598b633c3d5ffe267aaada57d961c94fdfa183c5c3ebda2b6d151943db6/backports.weakref-1.0.post1-py2.py3-none-any.whl\nCollecting tf-estimator-nightly<1.14.0.dev2019080602,>=1.14.0.dev2019080601 (from tensorflow==2.0.0-rc0)\n\u001b[?25l  Downloading https://files.pythonhosted.org/packages/21/28/f2a27a62943d5f041e4a6fd404b2d21cb7c59b2242a4e73b03d9ba166552/tf_estimator_nightly-1.14.0.dev2019080601-py2.py3-none-any.whl (501kB)\n\u001b[K     |████████████████████████████████| 501kB 12.6MB/s eta 0:00:01\n\u001b[?25hCollecting wrapt>=1.11.1 (from tensorflow==2.0.0-rc0)\nRequirement already satisfied: wheel>=0.26 in /home/nbuser/anaconda3_420/lib/python3.5/site-packages (from tensorflow==2.0.0-rc0) (0.29.0)\nRequirement already satisfied: grpcio>=1.8.6 in /home/nbuser/anaconda3_420/lib/python3.5/site-packages (from tensorflow==2.0.0-rc0) (1.23.0)\nRequirement already satisfied: astor>=0.6.0 in /home/nbuser/anaconda3_420/lib/python3.5/site-packages (from tensorflow==2.0.0-rc0) (0.8.0)\nCollecting werkzeug>=0.11.15 (from tb-nightly<1.15.0a20190807,>=1.15.0a20190806->tensorflow==2.0.0-rc0)\n  Using cached https://files.pythonhosted.org/packages/b7/61/c0a1adf9ad80db012ed7191af98fa05faa95fa09eceb71bb6fa8b66e6a43/Werkzeug-0.15.6-py2.py3-none-any.whl\nRequirement already satisfied: setuptools>=41.0.0 in /home/nbuser/anaconda3_420/lib/python3.5/site-packages (from tb-nightly<1.15.0a20190807,>=1.15.0a20190806->tensorflow==2.0.0-rc0) (41.1.0)\nRequirement already satisfied: markdown>=2.6.8 in /home/nbuser/anaconda3_420/lib/python3.5/site-packages (from tb-nightly<1.15.0a20190807,>=1.15.0a20190806->tensorflow==2.0.0-rc0) (3.1.1)\nRequirement already satisfied: h5py in /home/nbuser/anaconda3_420/lib/python3.5/site-packages (from keras-applications>=1.0.8->tensorflow==2.0.0-rc0) (2.7.1)\nBuilding wheels for collected packages: opt-einsum\n  Building wheel for opt-einsum (setup.py) ... \u001b[?25ldone\n\u001b[?25h  Created wheel for opt-einsum: filename=opt_einsum-3.0.1-cp35-none-any.whl size=60725 sha256=5be48dbe2335ac310b87662241cbb17ab27b71d4d67f73a2fdac4f38c1e44cc9\n  Stored in directory: /home/nbuser/.cache/pip/wheels/91/98/8d/10e3d4e04c959597a411b91acd3695e9e2d210e68ce3427aad\nSuccessfully built opt-einsum\nInstalling collected packages: werkzeug, tb-nightly, keras-applications, enum34, google-pasta, opt-einsum, backports.weakref, tf-estimator-nightly, wrapt, tensorflow\n  Found existing installation: Werkzeug 0.11.11\n\u001b[31mERROR: Cannot uninstall 'Werkzeug'. It is a distutils installed project and thus we cannot accurately determine which files belong to it which would lead to only a partial uninstall.\u001b[0m\n",
          "name": "stdout"
        }
      ]
    },
    {
      "metadata": {
        "trusted": true
      },
      "cell_type": "code",
      "source": "import tensorflow as tf\nimport os\n\ngraph_def = tf.GraphDef()\nlabels = []\n\n# These are set to the default names from exported models, update as needed.\nfilename = \"model.pb\"\nlabels_filename = \"labels.txt\"\n\n# Import the TF graph\nwith tf.gfile.GFile(filename, 'rb') as f:\n    graph_def.ParseFromString(f.read())\n    #tf.import_graph_def(graph_def, name='')\n\n# Create a list of labels.\nwith open(labels_filename, 'rt') as lf:\n    for l in lf:\n        labels.append(l.strip())",
      "execution_count": 40,
      "outputs": []
    },
    {
      "metadata": {
        "trusted": true
      },
      "cell_type": "code",
      "source": "def convert_to_opencv(image):\n    # RGB -> BGR conversion is performed as well.\n    image = image.convert('RGB')\n    r,g,b = np.array(image).T\n    opencv_image = np.array([b,g,r]).transpose()\n    return opencv_image\n\ndef crop_center(img,cropx,cropy):\n    h, w = img.shape[:2]\n    startx = w//2-(cropx//2)\n    starty = h//2-(cropy//2)\n    return img[starty:starty+cropy, startx:startx+cropx]\n\ndef resize_down_to_1600_max_dim(image):\n    h, w = image.shape[:2]\n    if (h < 1600 and w < 1600):\n        return image\n\n    new_size = (1600 * w // h, 1600) if (h > w) else (1600, 1600 * h // w)\n    return cv2.resize(image, new_size, interpolation = cv2.INTER_LINEAR)\n\ndef resize_to_256_square(image):\n    h, w = image.shape[:2]\n    return cv2.resize(image, (256, 256), interpolation = cv2.INTER_LINEAR)\n\ndef update_orientation(image):\n    exif_orientation_tag = 0x0112\n    if hasattr(image, '_getexif'):\n        exif = image._getexif()\n        if (exif != None and exif_orientation_tag in exif):\n            orientation = exif.get(exif_orientation_tag, 1)\n            # orientation is 1 based, shift to zero based and flip/transpose based on 0-based values\n            orientation -= 1\n            if orientation >= 4:\n                image = image.transpose(Image.TRANSPOSE)\n            if orientation == 2 or orientation == 3 or orientation == 6 or orientation == 7:\n                image = image.transpose(Image.FLIP_TOP_BOTTOM)\n            if orientation == 1 or orientation == 2 or orientation == 5 or orientation == 6:\n                image = image.transpose(Image.FLIP_LEFT_RIGHT)\n    return image",
      "execution_count": 41,
      "outputs": []
    },
    {
      "metadata": {
        "trusted": true
      },
      "cell_type": "code",
      "source": "from PIL import Image\nimport numpy as np\nimport cv2\n\n# Load from a file\nimageFile = \"int_download.jpg\"\nimage = Image.open(imageFile)\n\n# Update orientation based on EXIF tags, if the file has orientation info.\nimage = update_orientation(image)\n\n# Convert to OpenCV format\nimage = convert_to_opencv(image)",
      "execution_count": 42,
      "outputs": []
    },
    {
      "metadata": {
        "trusted": true
      },
      "cell_type": "code",
      "source": "# If the image has either w or h greater than 1600 we resize it down respecting\n# aspect ratio such that the largest dimension is 1600\nimage = resize_down_to_1600_max_dim(image)",
      "execution_count": 43,
      "outputs": []
    },
    {
      "metadata": {
        "trusted": true
      },
      "cell_type": "code",
      "source": "# These names are part of the model and cannot be changed.\noutput_layer = 'loss:0'\ninput_node = 'Placeholder:0'\npredictions =''\n\nwith tf.Session() as sess:\n    try:\n        #print(tf.global_variables())\n        prob_tensor = sess.graph.get_tensor_by_name(output_layer)\n        predictions = sess.run(prob_tensor, {input_node: [augmented_image] })\n        writer = tf.summary.FileWriter(\"output\", sess.graph)\n        print(sess.run(predictions))\n        writer.close()\n    except KeyError:\n        print (\"Couldn't find classification output layer: \" + output_layer + \".\")\n        print (\"Verify this a model exported from an Object Detection project.\")\n        exit(-1)\n       # %tensorboard --logdir logs\n#print(sess.graph.show())    ",
      "execution_count": 44,
      "outputs": [
        {
          "output_type": "stream",
          "text": "Couldn't find classification output layer: loss:0.\nVerify this a model exported from an Object Detection project.\n",
          "name": "stdout"
        }
      ]
    },
    {
      "metadata": {
        "trusted": true
      },
      "cell_type": "code",
      "source": " #%tensorboard",
      "execution_count": 38,
      "outputs": []
    },
    {
      "metadata": {
        "trusted": true
      },
      "cell_type": "code",
      "source": "#%tensorboard --logdir",
      "execution_count": 33,
      "outputs": [
        {
          "output_type": "stream",
          "text": "UsageError: Line magic function `%tensorboard` not found.\n",
          "name": "stderr"
        }
      ]
    },
    {
      "metadata": {
        "trusted": true
      },
      "cell_type": "code",
      "source": "",
      "execution_count": null,
      "outputs": []
    }
  ],
  "metadata": {
    "kernelspec": {
      "name": "python3",
      "display_name": "Python 3",
      "language": "python"
    },
    "language_info": {
      "mimetype": "text/x-python",
      "nbconvert_exporter": "python",
      "name": "python",
      "file_extension": ".py",
      "version": "3.5.4",
      "pygments_lexer": "ipython3",
      "codemirror_mode": {
        "version": 3,
        "name": "ipython"
      }
    }
  },
  "nbformat": 4,
  "nbformat_minor": 1
}